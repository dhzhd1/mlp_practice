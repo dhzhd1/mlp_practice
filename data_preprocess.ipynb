{
 "cells": [
  {
   "cell_type": "code",
   "execution_count": 1,
   "metadata": {
    "collapsed": true
   },
   "outputs": [],
   "source": [
    "import pandas as pd\n",
    "import numpy as np\n",
    "from sklearn.preprocessing import LabelEncoder\n",
    "from sklearn.neighbors import KNeighborsClassifier\n",
    "from sklearn.metrics import accuracy_score\n",
    "from sklearn.preprocessing import Normalizer"
   ]
  },
  {
   "cell_type": "code",
   "execution_count": 2,
   "metadata": {},
   "outputs": [
    {
     "name": "stdout",
     "output_type": "stream",
     "text": [
      "(30162, 15)\n"
     ]
    }
   ],
   "source": [
    "# loading data\n",
    "data_set = pd.read_csv('./adult.data', header=None, na_values=['?'], skipinitialspace=True, keep_default_na=True)\n",
    "\n",
    "#Drop the lines which has NaN values\n",
    "data_set.dropna(inplace=True)\n",
    "print(data_set.shape)"
   ]
  },
  {
   "cell_type": "code",
   "execution_count": 3,
   "metadata": {},
   "outputs": [
    {
     "name": "stdout",
     "output_type": "stream",
     "text": [
      "(30139, 15)\n"
     ]
    }
   ],
   "source": [
    "# Drop the duplicated line\n",
    "data_set.drop_duplicates(inplace=True)\n",
    "print(data_set.shape)"
   ]
  },
  {
   "cell_type": "code",
   "execution_count": 4,
   "metadata": {
    "scrolled": true
   },
   "outputs": [
    {
     "name": "stdout",
     "output_type": "stream",
     "text": [
      "   0   1       2   3   4   5   6   7   8   9     10  11  12  13  14\n",
      "0  39   5   77516   9  13   4   0   1   4   1  2174   0  40  38   0\n",
      "1  50   4   83311   9  13   2   3   0   4   1     0   0  13  38   0\n",
      "2  38   2  215646  11   9   0   5   1   4   1     0   0  40  38   0\n",
      "3  53   2  234721   1   7   2   5   0   2   1     0   0  40  38   0\n",
      "4  28   2  338409   9  13   2   9   5   2   0     0   0  40   4   0\n"
     ]
    }
   ],
   "source": [
    "# Lable Encoding the feature values which is 'object' type\n",
    "le = LabelEncoder()\n",
    "for col in data_set.columns.values:\n",
    "    # print(data_set[col].dtypes)\n",
    "    if data_set[col].dtypes == 'object':\n",
    "        le.fit(data_set[col].values)\n",
    "        data_set[col] = le.transform(data_set[col])\n",
    "print(data_set.head(n=5)) # n is row(s) to be displayed. Default n = 5"
   ]
  },
  {
   "cell_type": "code",
   "execution_count": 5,
   "metadata": {},
   "outputs": [],
   "source": [
    "# Convert the pandas dataframe to nparray\n",
    "data_set = data_set.as_matrix().astype(float)"
   ]
  },
  {
   "cell_type": "code",
   "execution_count": 6,
   "metadata": {},
   "outputs": [
    {
     "name": "stdout",
     "output_type": "stream",
     "text": [
      "x_train:(24111, 13)\n",
      "y_train:(24111,)\n",
      "x_test:(6028, 13)\n",
      "y_test:(6028,)\n"
     ]
    }
   ],
   "source": [
    "# Split the data to Training data and Testing Data : 80% Training()  and 20% Testing ()\n",
    "x_train = data_set[0:24111, :-2]\n",
    "y_train = data_set[0:24111, -1]\n",
    "\n",
    "x_test = data_set[-6028:, :-2]\n",
    "y_test = data_set[-6028:, -1]\n",
    "\n",
    "print(\"x_train:\" + str(x_train.shape))\n",
    "print(\"y_train:\" + str(y_train.shape))\n",
    "print(\"x_test:\" + str(x_test.shape))\n",
    "print(\"y_test:\" + str(y_test.shape))"
   ]
  },
  {
   "cell_type": "code",
   "execution_count": 11,
   "metadata": {},
   "outputs": [
    {
     "name": "stdout",
     "output_type": "stream",
     "text": [
      "Normalized x_train:\n",
      "[[  5.02924039e-04   6.44774410e-05   9.99606663e-01   1.16059394e-04\n",
      "    1.67641346e-04   5.15819528e-05   0.00000000e+00   1.28954882e-05\n",
      "    5.15819528e-05   1.28954882e-05   2.80347913e-02   0.00000000e+00\n",
      "    5.15819528e-04]]\n",
      "Normalized x_test:\n",
      "[[  2.12685731e-04   9.66753324e-06   9.99999971e-01   5.31714328e-05\n",
      "    4.35038996e-05   1.93350665e-05   5.31714328e-05   9.66753324e-06\n",
      "    1.93350665e-05   0.00000000e+00   0.00000000e+00   0.00000000e+00\n",
      "    7.25064993e-05]]\n"
     ]
    }
   ],
   "source": [
    "# Normalize the training and testing data\n",
    "norm = Normalizer(norm='l2').fit(x_train)\n",
    "x_train = norm.transform(x_train)\n",
    "x_test = norm.transform(x_test)\n",
    "print(\"Normalized x_train:\\n\" + str(x_train[:1, :]))\n",
    "print(\"Normalized x_test:\\n\" + str(x_test[:1, :]))"
   ]
  },
  {
   "cell_type": "code",
   "execution_count": 8,
   "metadata": {},
   "outputs": [
    {
     "data": {
      "text/plain": [
       "0.78682813536828133"
      ]
     },
     "execution_count": 8,
     "metadata": {},
     "output_type": "execute_result"
    }
   ],
   "source": [
    "# KNN clustering\n",
    "knn=KNeighborsClassifier(n_neighbors=2)\n",
    "knn.fit(x_train, y_train)\n",
    "accuracy_score(y_test, knn.predict(x_test))\n"
   ]
  },
  {
   "cell_type": "code",
   "execution_count": null,
   "metadata": {
    "collapsed": true
   },
   "outputs": [],
   "source": []
  }
 ],
 "metadata": {
  "kernelspec": {
   "display_name": "Python 2",
   "language": "python",
   "name": "python2"
  },
  "language_info": {
   "codemirror_mode": {
    "name": "ipython",
    "version": 2
   },
   "file_extension": ".py",
   "mimetype": "text/x-python",
   "name": "python",
   "nbconvert_exporter": "python",
   "pygments_lexer": "ipython2",
   "version": "2.7.6"
  }
 },
 "nbformat": 4,
 "nbformat_minor": 2
}
